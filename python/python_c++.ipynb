{
 "cells": [
  {
   "cell_type": "code",
   "execution_count": null,
   "metadata": {
    "vscode": {
     "languageId": "cpp"
    }
   },
   "outputs": [],
   "source": [
    "#include <iostream>\n",
    "\n",
    "std::cout<< \"test\" << std::endl;"
   ]
  },
  {
   "cell_type": "code",
   "execution_count": null,
   "metadata": {
    "vscode": {
     "languageId": "cpp"
    }
   },
   "outputs": [],
   "source": [
    "#include \"basic.hpp\"\n",
    "#include \"gtest/gtest.h\"\n",
    "#include <cmath>\n",
    "\n",
    "namespace {\n",
    "\n",
    "class BasicTest : public ::testing::Test {\n",
    "protected:\n",
    "    MatrixObj<double> A;\n",
    "    VectorObj<double> b;\n",
    "\n",
    "    void SetUp() override {\n",
    "        A = MatrixObj<double>(3, 3);\n",
    "        double setA[3*3] = {1,0,0,0,1,0,0,0,1};\n",
    "        double setB[3] = {1, 0, 0};\n",
    "\n",
    "        for (size_t i=0; i< 3*3; ++i){\n",
    "            A[i] = setA[i];\n",
    "        }\n",
    "        b = VectorObj<double>(3);\n",
    "        for (size_t i=0; i<3; ++i){\n",
    "            b[i] = setB[i];\n",
    "        }\n",
    "    }\n",
    "};\n",
    "\n",
    "TEST_F(BasicTest, PowerIterTest) {\n",
    "    VectorObj<double> b_init = b; \n",
    "    basic::powerIter(A, b, 10);\n",
    "    for (int i = 0; i < b.get_row(); ++i) {\n",
    "        EXPECT_NEAR(b_init[i], b[i], 1e-2);\n",
    "    }\n",
    "}\n",
    "\n",
    "TEST_F(BasicTest, RayleighQuotientTest) {\n",
    "    double quotient = basic::rayleighQuotient(A, b);\n",
    "    EXPECT_GT(quotient, -100);\n",
    "    EXPECT_LT(quotient, 100);\n",
    "}\n",
    "\n",
    "TEST_F(BasicTest, GramSmithTest) {\n",
    "    MatrixObj<double> orthMatrix = basic::gramSmith(A);\n",
    "    for (size_t i = 0; i < orthMatrix.get_row(); ++i) {\n",
    "        for (size_t j = i + 1; j < orthMatrix.get_col(); ++j) {\n",
    "            VectorObj<double> u = orthMatrix.get_Col(i);\n",
    "            VectorObj<double> v = orthMatrix.get_Col(j);\n",
    "            double dot_product = u * v;\n",
    "            EXPECT_NEAR(dot_product, 0, 1e-6);\n",
    "        }\n",
    "    }\n",
    "}\n",
    "\n",
    "}"
   ]
  }
 ],
 "metadata": {
  "kernelspec": {
   "display_name": "C++14",
   "language": "C++14",
   "name": "xeus-cling-cpp14"
  },
  "language_info": {
   "name": "C++14"
  }
 },
 "nbformat": 4,
 "nbformat_minor": 2
}
