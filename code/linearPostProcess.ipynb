{
 "cells": [
  {
   "cell_type": "code",
   "execution_count": null,
   "metadata": {},
   "outputs": [],
   "source": [
    "import fastsolver as fs\n",
    "import numpy as np\n",
    "\n",
    "# Load a matrix from SuiteSparse\n",
    "# A = mmread('../data/bcsstk01/bcsstk01.mtx')\n",
    "\n",
    "matrix = fs.SparseMatrix(1, 1)\n",
    "fs.read_matrix_market(\"../data/bcsstk08/bcsstk08.mtx\", matrix)\n",
    "\n",
    "# Generate a random exact solution\n",
    "\n",
    "x_exact = np.random.rand(matrix.cols())\n",
    "x_ext = fs.Vector(matrix.cols())\n",
    "\n",
    "for i in range(matrix.cols()):\n",
    "    x_ext[i] = x_exact[i]\n",
    "\n",
    "# # Generate a random right-hand side\n",
    "b = fs.matvec_mul(matrix, x_ext)\n",
    "x = fs.Vector(matrix.cols())\n",
    "# # Solve the system using GMRES\n",
    "gmres = fs.GMRES()\n",
    "\n",
    "# 求解线性方程组\n",
    "max_iter = 100\n",
    "krylov_dim = min(matrix.rows(), matrix.cols())\n",
    "tol = 1e-6\n",
    "gmres.solve(matrix, b, x, max_iter, krylov_dim, tol)\n",
    "\n",
    "\n"
   ]
  }
 ],
 "metadata": {
  "kernelspec": {
   "display_name": "base",
   "language": "python",
   "name": "python3"
  },
  "language_info": {
   "codemirror_mode": {
    "name": "ipython",
    "version": 3
   },
   "file_extension": ".py",
   "mimetype": "text/x-python",
   "name": "python",
   "nbconvert_exporter": "python",
   "pygments_lexer": "ipython3",
   "version": "3.9.19"
  }
 },
 "nbformat": 4,
 "nbformat_minor": 2
}
