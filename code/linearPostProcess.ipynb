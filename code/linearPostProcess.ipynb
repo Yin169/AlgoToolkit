{
 "cells": [
  {
   "cell_type": "code",
   "execution_count": 1,
   "metadata": {},
   "outputs": [
    {
     "name": "stdout",
     "output_type": "stream",
     "text": [
      "M: 1074 N: 1074 L: 7017\n",
      "Matrix created 1074 1074\n"
     ]
    }
   ],
   "source": [
    "import fastsolver as fs\n",
    "import numpy as np\n",
    "\n",
    "# Load a matrix from SuiteSparse\n",
    "# A = mmread('../data/bcsstk01/bcsstk01.mtx')\n",
    "\n",
    "matrix = fs.SparseMatrix(1, 1)\n",
    "fs.read_matrix_market(\"../data/bcsstk08/bcsstk08.mtx\", matrix)\n",
    "\n",
    "# Generate a random exact solution\n",
    "\n",
    "x_ext = fs.Vector(np.random.rand(matrix.cols()))\n",
    "\n"
   ]
  },
  {
   "cell_type": "code",
   "execution_count": null,
   "metadata": {},
   "outputs": [],
   "source": [
    "\n",
    "\n",
    "# # Generate a random right-hand side\n",
    "b = matrix * x_ext\n",
    "x = fs.Vector(matrix.cols())\n",
    "# # Solve the system using GMRES\n",
    "gmres = fs.GMRES()\n",
    "\n",
    "# 求解线性方程组\n",
    "max_iter = 100\n",
    "krylov_dim = 300\n",
    "tol = 1e-6\n",
    "gmres.solve(matrix, b, x, max_iter, krylov_dim, tol)"
   ]
  }
 ],
 "metadata": {
  "kernelspec": {
   "display_name": "base",
   "language": "python",
   "name": "python3"
  },
  "language_info": {
   "codemirror_mode": {
    "name": "ipython",
    "version": 3
   },
   "file_extension": ".py",
   "mimetype": "text/x-python",
   "name": "python",
   "nbconvert_exporter": "python",
   "pygments_lexer": "ipython3",
   "version": "3.9.19"
  }
 },
 "nbformat": 4,
 "nbformat_minor": 2
}
