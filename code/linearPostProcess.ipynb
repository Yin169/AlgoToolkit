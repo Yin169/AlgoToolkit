{
 "cells": [
  {
   "cell_type": "code",
   "execution_count": 1,
   "metadata": {},
   "outputs": [
    {
     "name": "stdout",
     "output_type": "stream",
     "text": [
      "M: 1074 N: 1074 L: 7017\n",
      "Matrix created 1074 1074\n"
     ]
    }
   ],
   "source": [
    "import fastsolver as fs\n",
    "import numpy as np\n",
    "\n",
    "# Load a matrix from SuiteSparse\n",
    "# A = mmread('../data/bcsstk01/bcsstk01.mtx')\n",
    "\n",
    "matrix = fs.SparseMatrix(1, 1)\n",
    "fs.read_matrix_market(\"../data/bcsstk08/bcsstk08.mtx\", matrix)\n",
    "\n",
    "# Generate a random exact solution\n",
    "\n",
    "x_ext = fs.Vector(matrix.cols())\n",
    "x_ext[10] = 1.0\n",
    "x_ext[13] = 2.0\n",
    "x_ext[15] = 1.0\n",
    "x_ext[21] = 2.0\n",
    "\n"
   ]
  },
  {
   "cell_type": "code",
   "execution_count": 2,
   "metadata": {},
   "outputs": [
    {
     "name": "stdout",
     "output_type": "stream",
     "text": [
      "Initial residual norm: 3.61305e+09\n",
      "Residual norm after restart: 48.8833 \n",
      "Residual norm after restart: 3.0152 \n",
      "Residual norm after restart: 0.58818 \n",
      "Residual norm after restart: 0.218232 \n",
      "Residual norm after restart: 0.0798041 \n",
      "Residual norm after restart: 0.0383309 \n",
      "Residual norm after restart: 0.02009 \n",
      "Residual norm after restart: 0.0136805 \n",
      "Residual norm after restart: 0.00994701 \n",
      "Residual norm after restart: 0.00756547 \n",
      "Residual norm after restart: 0.00595353 \n",
      "Residual norm after restart: 0.00468568 \n",
      "Residual norm after restart: 0.00372302 \n",
      "Residual norm after restart: 0.00306624 \n",
      "Residual norm after restart: 0.00251287 \n",
      "Residual norm after restart: 0.00205987 \n",
      "Residual norm after restart: 0.00168619 \n",
      "Residual norm after restart: 0.00136998 \n",
      "Residual norm after restart: 0.00111146 \n",
      "Residual norm after restart: 0.000851936 \n",
      "Residual norm after restart: 0.000647086 \n",
      "Residual norm after restart: 0.000494648 \n",
      "Residual norm after restart: 0.000372241 \n",
      "Residual norm after restart: 0.000280247 \n",
      "Residual norm after restart: 0.00021123 \n",
      "Residual norm after restart: 0.000159298 \n",
      "Residual norm after restart: 0.000119049 \n",
      "Residual norm after restart: 8.79361e-05 \n",
      "Residual norm after restart: 6.40846e-05 \n",
      "Residual norm after restart: 4.79693e-05 \n",
      "Residual norm after restart: 3.54903e-05 \n",
      "Residual norm after restart: 2.59024e-05 \n",
      "Residual norm after restart: 1.88492e-05 \n",
      "Residual norm after restart: 1.33969e-05 \n",
      "Residual norm after restart: 9.59217e-06 \n",
      "Residual norm after restart: 6.08201e-06 \n",
      "Residual norm after restart: 3.90171e-06 \n",
      "Residual norm after restart: 2.74033e-06 \n",
      "Residual norm after restart: 1.92822e-06 \n",
      "Residual norm after restart: 1.37682e-06 \n",
      "Residual norm after restart: 9.85207e-07 \n",
      "Converged after restart at iteration 40\n"
     ]
    }
   ],
   "source": [
    "\n",
    "\n",
    "# # Generate a random right-hand side\n",
    "b = fs.matvec_mul(matrix, x_ext)\n",
    "x = fs.Vector(matrix.cols())\n",
    "# # Solve the system using GMRES\n",
    "gmres = fs.GMRES()\n",
    "\n",
    "# 求解线性方程组\n",
    "max_iter = 100\n",
    "krylov_dim = 100\n",
    "tol = 1e-6\n",
    "gmres.solve(matrix, b, x, max_iter, krylov_dim, tol)"
   ]
  }
 ],
 "metadata": {
  "kernelspec": {
   "display_name": "base",
   "language": "python",
   "name": "python3"
  },
  "language_info": {
   "codemirror_mode": {
    "name": "ipython",
    "version": 3
   },
   "file_extension": ".py",
   "mimetype": "text/x-python",
   "name": "python",
   "nbconvert_exporter": "python",
   "pygments_lexer": "ipython3",
   "version": "3.9.19"
  }
 },
 "nbformat": 4,
 "nbformat_minor": 2
}
