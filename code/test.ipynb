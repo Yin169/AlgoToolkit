{
 "cells": [
  {
   "cell_type": "code",
   "execution_count": 4,
   "metadata": {},
   "outputs": [
    {
     "ename": "ModuleNotFoundError",
     "evalue": "No module named 'fastsolver'",
     "output_type": "error",
     "traceback": [
      "\u001b[0;31m---------------------------------------------------------------------------\u001b[0m",
      "\u001b[0;31mModuleNotFoundError\u001b[0m                       Traceback (most recent call last)",
      "Cell \u001b[0;32mIn[4], line 1\u001b[0m\n\u001b[0;32m----> 1\u001b[0m \u001b[38;5;28;01mimport\u001b[39;00m \u001b[38;5;21;01mfastsolver\u001b[39;00m\n\u001b[1;32m      3\u001b[0m \u001b[38;5;66;03m# Example usage of power_iter function\u001b[39;00m\n\u001b[1;32m      4\u001b[0m A \u001b[38;5;241m=\u001b[39m [[\u001b[38;5;241m4\u001b[39m, \u001b[38;5;241m1\u001b[39m], [\u001b[38;5;241m2\u001b[39m, \u001b[38;5;241m3\u001b[39m]]  \u001b[38;5;66;03m# Example matrix\u001b[39;00m\n",
      "\u001b[0;31mModuleNotFoundError\u001b[0m: No module named 'fastsolver'"
     ]
    }
   ],
   "source": [
    "import fastsolver\n",
    "\n",
    "# Example usage of power_iter function\n",
    "A = [[4, 1], [2, 3]]  # Example matrix\n",
    "b = [1, 0]            # Example vector\n",
    "max_iter = 1000\n",
    "\n",
    "# Call the power_iter function\n",
    "eigenvalue, eigenvector = fastsolver.power_iter(A, b, max_iter)\n",
    "print(f\"Eigenvalue: {eigenvalue}\")\n",
    "print(f\"Eigenvector: {eigenvector}\")\n",
    "\n",
    "# Example usage of ConjugateGrad class\n",
    "A = fastsolver.SparseMatrixCSC(2, 2)\n",
    "A.addValue(0, 0, 4)\n",
    "A.addValue(0, 1, 1)\n",
    "A.addValue(1, 0, 2)\n",
    "A.addValue(1, 1, 3)\n",
    "A.finalize()\n",
    "\n",
    "b = fastsolver.VectorObj(2, 1.0)\n",
    "x = fastsolver.VectorObj(2, 0.0)\n",
    "\n",
    "cg_solver = fastsolver.ConjugateGrad(A, b, 1000, 1e-6)\n",
    "cg_solver.solve(x)\n",
    "print(f\"Solution: {x}\")\n",
    "\n",
    "# Example usage of AlgebraicMultiGrid class\n",
    "amg_solver = fastsolver.AlgebraicMultiGrid()\n",
    "x = fastsolver.VectorObj(2, 0.0)\n",
    "amg_solver.amgVCycle(A, b, x, levels=2, smoothingSteps=3, theta=0.25)\n",
    "print(f\"AMG Solution: {x}\")"
   ]
  }
 ],
 "metadata": {
  "kernelspec": {
   "display_name": "base",
   "language": "python",
   "name": "python3"
  },
  "language_info": {
   "codemirror_mode": {
    "name": "ipython",
    "version": 3
   },
   "file_extension": ".py",
   "mimetype": "text/x-python",
   "name": "python",
   "nbconvert_exporter": "python",
   "pygments_lexer": "ipython3",
   "version": "3.9.19"
  }
 },
 "nbformat": 4,
 "nbformat_minor": 2
}
