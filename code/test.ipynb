{
 "cells": [
  {
   "cell_type": "code",
   "execution_count": null,
   "metadata": {},
   "outputs": [],
   "source": [
    "import fastsolver as fs"
   ]
  },
  {
   "cell_type": "code",
   "execution_count": null,
   "metadata": {},
   "outputs": [],
   "source": [
    "# 创建一个大小为 3 的向量\n",
    "v = fs.Vector(3)\n",
    "v[0] = 1.0\n",
    "v[1] = 2.0\n",
    "v[2] = 3.0\n",
    "\n",
    "# 输出向量和矩阵\n",
    "print(\"Vector v:\", [v[i] for i in range(v.size())])"
   ]
  },
  {
   "cell_type": "code",
   "execution_count": null,
   "metadata": {},
   "outputs": [],
   "source": [
    "# 创建一个稀疏矩阵\n",
    "A = fs.SparseMatrix(2, 2)\n",
    "A.addValue(0, 0, 4.0)\n",
    "A.addValue(0, 1, 1.0)\n",
    "A.addValue(1, 0, 1.0)\n",
    "A.addValue(1, 1, 3.0)\n",
    "A.finalize()\n",
    "\n",
    "# 创建右侧向量\n",
    "b = fs.Vector(2)\n",
    "b[0] = 1.0\n",
    "b[1] = 2.0\n",
    "\n",
    "sol = fs.Vector(2)\n",
    "\n",
    "# 使用共轭梯度法求解\n",
    "cg = fs.ConjugateGrad(A, b, 100, 1e-6)\n",
    "cg.solve(sol)\n",
    "\n",
    "# 输出解\n",
    "print(\"Solution x:\", [sol[i] for i in range(sol.size())])"
   ]
  },
  {
   "cell_type": "code",
   "execution_count": null,
   "metadata": {},
   "outputs": [],
   "source": [
    "import math\n",
    "# 定义被积函数\n",
    "def f(x):\n",
    "    return x ** 2\n",
    "\n",
    "gauss = fs.GaussQuadrature(5)  # 使用 5 个积分点\n",
    "a = 0.0\n",
    "b = 1.0\n",
    "integral = gauss.integrate(f, a, b)\n",
    "print(\"Integral of x^2 from 0 to 1:\", integral)"
   ]
  },
  {
   "cell_type": "code",
   "execution_count": null,
   "metadata": {},
   "outputs": [],
   "source": [
    "import fastsolver as fs\n",
    "\n",
    "# 定义 ODE 的右侧函数\n",
    "def f(y):\n",
    "    result = fs.Vector(2)  # 创建一个大小为 2 的 Vector 对象\n",
    "    result[0] = -y[1]      # 设置第一个分量\n",
    "    result[1] = y[0]       # 设置第二个分量\n",
    "    return result\n",
    "\n",
    "# 初始条件\n",
    "y0 = fs.Vector(2)\n",
    "y0[0] = 1.0\n",
    "y0[1] = 0.0\n",
    "\n",
    "# 创建 Runge-Kutta 求解器\n",
    "rk = fs.RK4()\n",
    "\n",
    "# 求解 ODE\n",
    "h = 0.1  # 步长\n",
    "n = 100  # 步数\n",
    "rk.solve(y0, f, h, n)\n",
    "\n",
    "# 输出结果\n",
    "print(\"Final state vector:\", [y0[i] for i in range(y0.size())])"
   ]
  },
  {
   "cell_type": "code",
   "execution_count": null,
   "metadata": {},
   "outputs": [],
   "source": [
    "import fastsolver as fs\n",
    "\n",
    "# 创建一个稀疏矩阵\n",
    "A = fs.SparseMatrix(2, 2)\n",
    "A.addValue(0, 0, 4.0)\n",
    "A.addValue(0, 1, 1.0)\n",
    "A.addValue(1, 0, 1.0)\n",
    "A.addValue(1, 1, 3.0)\n",
    "A.finalize()\n",
    "\n",
    "# 创建右侧向量\n",
    "b = fs.Vector(2)\n",
    "b[0] = 1.0\n",
    "b[1] = 2.0\n",
    "\n",
    "# 初始猜测\n",
    "x = fs.Vector(2)\n",
    "x[0] = 0.0\n",
    "x[1] = 0.0\n",
    "\n",
    "# 创建多重网格求解器\n",
    "amg = fs.AlgebraicMultiGrid()\n",
    "\n",
    "# 执行 V-cycle\n",
    "levels = 2\n",
    "smoothing_steps = 10\n",
    "theta = 0.5\n",
    "amg.amgVCycle(A, b, x, levels, smoothing_steps, theta)\n",
    "\n",
    "# 输出结果\n",
    "print(\"Solution x:\", [x[i] for i in range(x.size())])"
   ]
  },
  {
   "cell_type": "code",
   "execution_count": null,
   "metadata": {},
   "outputs": [],
   "source": [
    "import fastsolver as fs\n",
    "\n",
    "# 创建一个稀疏矩阵\n",
    "A = fs.SparseMatrix(2, 2)\n",
    "A.addValue(0, 0, 4.0)\n",
    "A.addValue(0, 1, 1.0)\n",
    "A.addValue(1, 0, 1.0)\n",
    "A.addValue(1, 1, 3.0)\n",
    "A.finalize()\n",
    "\n",
    "# 创建右侧向量\n",
    "b = fs.Vector(2)\n",
    "b[0] = 1.0\n",
    "b[1] = 2.0\n",
    "\n",
    "# 初始猜测\n",
    "x = fs.Vector(2)\n",
    "x[0] = 0.0\n",
    "x[1] = 0.0\n",
    "\n",
    "# 创建 GMRES 求解器\n",
    "gmres = fs.GMRES()\n",
    "\n",
    "# 求解线性方程组\n",
    "max_iter = 100\n",
    "krylov_dim = 1\n",
    "tol = 1e-6\n",
    "gmres.solve(A, b, x, max_iter, krylov_dim, tol)\n",
    "\n",
    "# 输出结果\n",
    "print(\"Solution x:\", [x[i] for i in range(x.size())])"
   ]
  },
  {
   "cell_type": "code",
   "execution_count": null,
   "metadata": {},
   "outputs": [],
   "source": [
    "import fastsolver as fs\n",
    "\n",
    "# 创建一个稠密矩阵\n",
    "A = fs.DenseMatrix(2, 2)\n",
    "A[0, 0] = 4.0\n",
    "A[0, 1] = 1.0\n",
    "A[1, 0] = 1.0\n",
    "A[1, 1] = 3.0\n",
    "\n",
    "# 创建置换矩阵\n",
    "P = [0, 0]\n",
    "\n",
    "# 执行 LU 分解\n",
    "fs.pivot_lu(A, P)\n",
    "\n",
    "# 输出 LU 分解结果\n",
    "print(\"LU decomposition of A:\")\n",
    "for i in range(A.rows()):\n",
    "    print([A[i, j] for j in range(A.cols())])\n",
    "\n",
    "print(\"Permutation matrix P:\")\n",
    "print(P)"
   ]
  },
  {
   "cell_type": "code",
   "execution_count": null,
   "metadata": {},
   "outputs": [],
   "source": [
    "import fastsolver as fs\n",
    "import numpy as np\n",
    "\n",
    "# Load a matrix from SuiteSparse\n",
    "# A = mmread('../data/bcsstk01/bcsstk01.mtx')\n",
    "\n",
    "matrix = fs.SparseMatrix(1, 1)\n",
    "fs.read_matrix_market(\"../data/bcsstk01/bcsstk01.mtx\", matrix)\n",
    "\n",
    "# # Generate a random exact solution\n",
    "\n",
    "x_exact = np.random.rand(matrix.cols())\n",
    "x_ext = fs.Vector(x_exact)\n",
    "\n",
    "# # Generate a random right-hand side\n",
    "b = matrix * x_ext\n",
    "\n",
    "\n"
   ]
  },
  {
   "cell_type": "code",
   "execution_count": null,
   "metadata": {},
   "outputs": [],
   "source": [
    "x = fs.Vector(matrix.cols())\n",
    "# # Solve the system using GMRES\n",
    "gmres = fs.GMRES()\n",
    "# gmres.enablePreconditioner()\n",
    "\n",
    "# 求解线性方程组\n",
    "max_iter = 300\n",
    "krylov_dim = 20 \n",
    "tol = 1e-15\n",
    "gmres.solve(matrix, b, x, max_iter, krylov_dim, tol)\n"
   ]
  },
  {
   "cell_type": "code",
   "execution_count": null,
   "metadata": {},
   "outputs": [],
   "source": [
    "res = [float(i.replace('\\n','')) for i in res]\n",
    "res"
   ]
  },
  {
   "cell_type": "code",
   "execution_count": null,
   "metadata": {},
   "outputs": [],
   "source": [
    "import matplotlib.pyplot as plt\n",
    "\n",
    "plt.plot(res[1:], '-o')\n",
    "plt.title('Convergence GMRES')\n",
    "plt.ylabel('Residual')\n",
    "plt.xlabel('Iteration')\n",
    "plt.show()"
   ]
  },
  {
   "cell_type": "code",
   "execution_count": null,
   "metadata": {},
   "outputs": [],
   "source": []
  }
 ],
 "metadata": {
  "kernelspec": {
   "display_name": "base",
   "language": "python",
   "name": "python3"
  },
  "language_info": {
   "codemirror_mode": {
    "name": "ipython",
    "version": 3
   },
   "file_extension": ".py",
   "mimetype": "text/x-python",
   "name": "python",
   "nbconvert_exporter": "python",
   "pygments_lexer": "ipython3",
   "version": "3.9.19"
  }
 },
 "nbformat": 4,
 "nbformat_minor": 2
}
