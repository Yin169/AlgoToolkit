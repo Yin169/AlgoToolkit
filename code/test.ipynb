{
 "cells": [
  {
   "cell_type": "code",
   "execution_count": 1,
   "metadata": {},
   "outputs": [
    {
     "ename": "AttributeError",
     "evalue": "dlsym(0x396affca0, power_iter): symbol not found",
     "output_type": "error",
     "traceback": [
      "\u001b[0;31m---------------------------------------------------------------------------\u001b[0m",
      "\u001b[0;31mAttributeError\u001b[0m                            Traceback (most recent call last)",
      "Cell \u001b[0;32mIn[1], line 10\u001b[0m\n\u001b[1;32m      7\u001b[0m max_iter \u001b[38;5;241m=\u001b[39m \u001b[38;5;241m1000\u001b[39m\n\u001b[1;32m      9\u001b[0m \u001b[38;5;66;03m# Call the power_iter function\u001b[39;00m\n\u001b[0;32m---> 10\u001b[0m eigenvalue, eigenvector \u001b[38;5;241m=\u001b[39m \u001b[43mfastsolver\u001b[49m\u001b[38;5;241;43m.\u001b[39;49m\u001b[43mpower_iter\u001b[49m(A, b, max_iter)\n\u001b[1;32m     11\u001b[0m \u001b[38;5;28mprint\u001b[39m(\u001b[38;5;124mf\u001b[39m\u001b[38;5;124m\"\u001b[39m\u001b[38;5;124mEigenvalue: \u001b[39m\u001b[38;5;132;01m{\u001b[39;00meigenvalue\u001b[38;5;132;01m}\u001b[39;00m\u001b[38;5;124m\"\u001b[39m)\n\u001b[1;32m     12\u001b[0m \u001b[38;5;28mprint\u001b[39m(\u001b[38;5;124mf\u001b[39m\u001b[38;5;124m\"\u001b[39m\u001b[38;5;124mEigenvector: \u001b[39m\u001b[38;5;132;01m{\u001b[39;00meigenvector\u001b[38;5;132;01m}\u001b[39;00m\u001b[38;5;124m\"\u001b[39m)\n",
      "File \u001b[0;32m/Library/Developer/CommandLineTools/Library/Frameworks/Python3.framework/Versions/3.9/lib/python3.9/ctypes/__init__.py:379\u001b[0m, in \u001b[0;36mCDLL.__getattr__\u001b[0;34m(self, name)\u001b[0m\n\u001b[1;32m    377\u001b[0m \u001b[38;5;28;01mif\u001b[39;00m name\u001b[38;5;241m.\u001b[39mstartswith(\u001b[38;5;124m'\u001b[39m\u001b[38;5;124m__\u001b[39m\u001b[38;5;124m'\u001b[39m) \u001b[38;5;129;01mand\u001b[39;00m name\u001b[38;5;241m.\u001b[39mendswith(\u001b[38;5;124m'\u001b[39m\u001b[38;5;124m__\u001b[39m\u001b[38;5;124m'\u001b[39m):\n\u001b[1;32m    378\u001b[0m     \u001b[38;5;28;01mraise\u001b[39;00m \u001b[38;5;167;01mAttributeError\u001b[39;00m(name)\n\u001b[0;32m--> 379\u001b[0m func \u001b[38;5;241m=\u001b[39m \u001b[38;5;28;43mself\u001b[39;49m\u001b[38;5;241;43m.\u001b[39;49m\u001b[38;5;21;43m__getitem__\u001b[39;49m\u001b[43m(\u001b[49m\u001b[43mname\u001b[49m\u001b[43m)\u001b[49m\n\u001b[1;32m    380\u001b[0m \u001b[38;5;28msetattr\u001b[39m(\u001b[38;5;28mself\u001b[39m, name, func)\n\u001b[1;32m    381\u001b[0m \u001b[38;5;28;01mreturn\u001b[39;00m func\n",
      "File \u001b[0;32m/Library/Developer/CommandLineTools/Library/Frameworks/Python3.framework/Versions/3.9/lib/python3.9/ctypes/__init__.py:384\u001b[0m, in \u001b[0;36mCDLL.__getitem__\u001b[0;34m(self, name_or_ordinal)\u001b[0m\n\u001b[1;32m    383\u001b[0m \u001b[38;5;28;01mdef\u001b[39;00m \u001b[38;5;21m__getitem__\u001b[39m(\u001b[38;5;28mself\u001b[39m, name_or_ordinal):\n\u001b[0;32m--> 384\u001b[0m     func \u001b[38;5;241m=\u001b[39m \u001b[38;5;28;43mself\u001b[39;49m\u001b[38;5;241;43m.\u001b[39;49m\u001b[43m_FuncPtr\u001b[49m\u001b[43m(\u001b[49m\u001b[43m(\u001b[49m\u001b[43mname_or_ordinal\u001b[49m\u001b[43m,\u001b[49m\u001b[43m \u001b[49m\u001b[38;5;28;43mself\u001b[39;49m\u001b[43m)\u001b[49m\u001b[43m)\u001b[49m\n\u001b[1;32m    385\u001b[0m     \u001b[38;5;28;01mif\u001b[39;00m \u001b[38;5;129;01mnot\u001b[39;00m \u001b[38;5;28misinstance\u001b[39m(name_or_ordinal, \u001b[38;5;28mint\u001b[39m):\n\u001b[1;32m    386\u001b[0m         func\u001b[38;5;241m.\u001b[39m\u001b[38;5;18m__name__\u001b[39m \u001b[38;5;241m=\u001b[39m name_or_ordinal\n",
      "\u001b[0;31mAttributeError\u001b[0m: dlsym(0x396affca0, power_iter): symbol not found"
     ]
    }
   ],
   "source": [
    "from ctypes import cdll\n",
    "fastsolver = cdll.LoadLibrary('../build/fastsolver.cpython-39-darwin.so')\n",
    "\n",
    "# Example usage of power_iter function\n",
    "A = [[4, 1], [2, 3]]  # Example matrix\n",
    "b = [1, 0]            # Example vector\n",
    "max_iter = 1000\n",
    "\n",
    "# Call the power_iter function\n",
    "eigenvalue, eigenvector = fastsolver.power_iter(A, b, max_iter)\n",
    "print(f\"Eigenvalue: {eigenvalue}\")\n",
    "print(f\"Eigenvector: {eigenvector}\")\n",
    "\n",
    "# Example usage of ConjugateGrad class\n",
    "A = fastsolver.SparseMatrixCSC(2, 2)\n",
    "A.addValue(0, 0, 4)\n",
    "A.addValue(0, 1, 1)\n",
    "A.addValue(1, 0, 2)\n",
    "A.addValue(1, 1, 3)\n",
    "A.finalize()\n",
    "\n",
    "b = fastsolver.VectorObj(2, 1.0)\n",
    "x = fastsolver.VectorObj(2, 0.0)\n",
    "\n",
    "cg_solver = fastsolver.ConjugateGrad(A, b, 1000, 1e-6)\n",
    "cg_solver.solve(x)\n",
    "print(f\"Solution: {x}\")\n",
    "\n",
    "# Example usage of AlgebraicMultiGrid class\n",
    "amg_solver = fastsolver.AlgebraicMultiGrid()\n",
    "x = fastsolver.VectorObj(2, 0.0)\n",
    "amg_solver.amgVCycle(A, b, x, levels=2, smoothingSteps=3, theta=0.25)\n",
    "print(f\"AMG Solution: {x}\")"
   ]
  }
 ],
 "metadata": {
  "kernelspec": {
   "display_name": "base",
   "language": "python",
   "name": "python3"
  },
  "language_info": {
   "codemirror_mode": {
    "name": "ipython",
    "version": 3
   },
   "file_extension": ".py",
   "mimetype": "text/x-python",
   "name": "python",
   "nbconvert_exporter": "python",
   "pygments_lexer": "ipython3",
   "version": "3.9.6"
  }
 },
 "nbformat": 4,
 "nbformat_minor": 2
}
